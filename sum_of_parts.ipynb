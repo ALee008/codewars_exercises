{
 "cells": [
  {
   "cell_type": "markdown",
   "id": "77144cdd",
   "metadata": {},
   "source": [
    "# Introduction"
   ]
  },
  {
   "cell_type": "markdown",
   "id": "b2989e1c",
   "metadata": {},
   "source": [
    "Let us consider this example (array written in general format):"
   ]
  },
  {
   "cell_type": "code",
   "execution_count": 67,
   "id": "576e76e2",
   "metadata": {},
   "outputs": [],
   "source": [
    "ls = [0, 1, 3, 6, 10]"
   ]
  },
  {
   "cell_type": "markdown",
   "id": "f2ed15ca",
   "metadata": {},
   "source": [
    "Its following parts:"
   ]
  },
  {
   "cell_type": "code",
   "execution_count": 68,
   "id": "db0159c8",
   "metadata": {},
   "outputs": [],
   "source": [
    "ls = [0, 1, 3, 6, 10]\n",
    "ls = [1, 3, 6, 10]\n",
    "ls = [3, 6, 10]\n",
    "ls = [6, 10]\n",
    "ls = [10]\n",
    "ls = []"
   ]
  },
  {
   "cell_type": "markdown",
   "id": "2a38200d",
   "metadata": {},
   "source": [
    "The corresponding sums are (put together in a list): `[20, 20, 19, 16, 10, 0]`"
   ]
  },
  {
   "cell_type": "markdown",
   "id": "af31c4a5",
   "metadata": {},
   "source": [
    "The function `parts_sums` (or its variants in other languages) will take as parameter a list ls and return a list of the sums of its parts as defined above."
   ]
  },
  {
   "cell_type": "code",
   "execution_count": 69,
   "id": "ef0d6505",
   "metadata": {},
   "outputs": [],
   "source": [
    "ls = [1, 2, 3, 4, 5, 6] \n",
    "# --> parts_sums(ls) -> [21, 20, 18, 15, 11, 6, 0]\n",
    "\n",
    "ls = [744125, 935, 407, 454, 430, 90, 144, 6710213, 889, 810, 2579358]\n",
    "# --> parts_sums(ls) -> [10037855, 9293730, 9292795, 9292388, 9291934, 9291504, 9291414, 9291270, 2581057, 2580168, 2579358, 0]"
   ]
  },
  {
   "cell_type": "markdown",
   "id": "fcad52d9",
   "metadata": {},
   "source": [
    "**Notes**"
   ]
  },
  {
   "cell_type": "markdown",
   "id": "b88853c5",
   "metadata": {},
   "source": [
    "- Take a look at performance: some lists have thousands of elements."
   ]
  },
  {
   "cell_type": "markdown",
   "id": "7abbb3d5",
   "metadata": {},
   "source": [
    "# Prerequisites"
   ]
  },
  {
   "cell_type": "code",
   "execution_count": 78,
   "id": "171df843",
   "metadata": {},
   "outputs": [],
   "source": [
    "import random\n",
    "from typing import List"
   ]
  },
  {
   "cell_type": "code",
   "execution_count": 158,
   "id": "81cd5933",
   "metadata": {},
   "outputs": [],
   "source": [
    "N = 20_000\n",
    "ls1 = []\n",
    "ls1_result = [0]\n",
    "ls2 = [0, 1, 3, 6, 10]\n",
    "ls2_result = [20, 20, 19, 16, 10, 0]\n",
    "ls3 = [1, 2, 3, 4, 5, 6]\n",
    "ls3_result = [21, 20, 18, 15, 11, 6, 0]\n",
    "ls4 = [744125, 935, 407, 454, 430, 90, 144, 6710213, 889, 810, 2579358]\n",
    "ls4_result = [10037855, 9293730, 9292795, 9292388, 9291934, 9291504, 9291414, 9291270, 2581057, 2580168, 2579358, 0]\n",
    "numbers = [random.randint(0, 10_000) for _ in range(N)]"
   ]
  },
  {
   "cell_type": "markdown",
   "id": "8bdad95b",
   "metadata": {},
   "source": [
    "# Native Python"
   ]
  },
  {
   "cell_type": "markdown",
   "id": "3f9a5cbc",
   "metadata": {},
   "source": [
    "## 'Naive' attempt"
   ]
  },
  {
   "cell_type": "code",
   "execution_count": 76,
   "id": "dd101b8f",
   "metadata": {},
   "outputs": [],
   "source": [
    "def sum_parts(ls: List[int]) -> List[int]:\n",
    "    sums = []\n",
    "    for i in range(len(ls)):\n",
    "        sums.append(sum(ls[i:]))\n",
    "    return sums + [0]"
   ]
  },
  {
   "cell_type": "markdown",
   "id": "38ce8d2b",
   "metadata": {},
   "source": [
    "## List-Comp attempt"
   ]
  },
  {
   "cell_type": "code",
   "execution_count": 91,
   "id": "c0126a32",
   "metadata": {},
   "outputs": [],
   "source": [
    "def sum_list_comp(ls: List[int]) -> List[int]:\n",
    "    sums = [sum(ls[i:]) for i in range(len(ls))] + [0]\n",
    "    return sums"
   ]
  },
  {
   "cell_type": "markdown",
   "id": "3941488b",
   "metadata": {},
   "source": [
    "# Smarter attempt"
   ]
  },
  {
   "cell_type": "code",
   "execution_count": 97,
   "id": "1e069141",
   "metadata": {},
   "outputs": [],
   "source": [
    "def difference(ls: List[int]) -> List[int]:\n",
    "    total = sum(ls)\n",
    "    sums = []\n",
    "    sums.append(total)\n",
    "    for n in ls:\n",
    "        total -= n\n",
    "        sums.append(total)\n",
    "    return sums"
   ]
  },
  {
   "cell_type": "markdown",
   "id": "21aa0c13",
   "metadata": {},
   "source": [
    "# Even smarter attempt"
   ]
  },
  {
   "cell_type": "code",
   "execution_count": 116,
   "id": "fb1d7394",
   "metadata": {},
   "outputs": [],
   "source": [
    "def acc(ls: List[int]) -> List[int]:\n",
    "    total = sum(ls)\n",
    "    return [total] + [total - el for el in itertools.accumulate(ls)]"
   ]
  },
  {
   "cell_type": "markdown",
   "id": "2533397a",
   "metadata": {},
   "source": [
    "## Test Cases"
   ]
  },
  {
   "cell_type": "markdown",
   "id": "f9dd4be7",
   "metadata": {},
   "source": [
    "### Unit Tests"
   ]
  },
  {
   "cell_type": "code",
   "execution_count": 92,
   "id": "432e035c",
   "metadata": {},
   "outputs": [],
   "source": [
    "ls = range(1, 7)"
   ]
  },
  {
   "cell_type": "code",
   "execution_count": 93,
   "id": "2777dba0",
   "metadata": {},
   "outputs": [
    {
     "data": {
      "text/plain": [
       "[21, 20, 18, 15, 11, 6, 0]"
      ]
     },
     "execution_count": 93,
     "metadata": {},
     "output_type": "execute_result"
    }
   ],
   "source": [
    "sum_parts(ls)"
   ]
  },
  {
   "cell_type": "code",
   "execution_count": 95,
   "id": "da67a3a9",
   "metadata": {},
   "outputs": [
    {
     "data": {
      "text/plain": [
       "[21, 20, 18, 15, 11, 6, 0]"
      ]
     },
     "execution_count": 95,
     "metadata": {},
     "output_type": "execute_result"
    }
   ],
   "source": [
    "sum_list_comp(ls)"
   ]
  },
  {
   "cell_type": "code",
   "execution_count": 98,
   "id": "7085b2f4",
   "metadata": {},
   "outputs": [
    {
     "data": {
      "text/plain": [
       "[21, 20, 18, 15, 11, 6, 0]"
      ]
     },
     "execution_count": 98,
     "metadata": {},
     "output_type": "execute_result"
    }
   ],
   "source": [
    "difference(ls)"
   ]
  },
  {
   "cell_type": "code",
   "execution_count": 156,
   "id": "f70344f2",
   "metadata": {
    "scrolled": true
   },
   "outputs": [],
   "source": [
    "assert(acc([]) == [0])\n",
    "assert(acc(ls) == [21, 20, 18, 15, 11, 6, 0])\n",
    "assert(acc([0, 1, 3, 6, 10]) == [20, 20, 19, 16, 10, 0])"
   ]
  },
  {
   "cell_type": "markdown",
   "id": "beb65afa",
   "metadata": {},
   "source": [
    "### Benchmark Test"
   ]
  },
  {
   "cell_type": "code",
   "execution_count": 84,
   "id": "b96b0a98",
   "metadata": {},
   "outputs": [
    {
     "name": "stdout",
     "output_type": "stream",
     "text": [
      "3.37 s Â± 6.6 ms per loop (mean Â± std. dev. of 2 runs, 1 loop each)\n"
     ]
    }
   ],
   "source": [
    "%%timeit -r 2 -n 1\n",
    "sum_parts(numbers)"
   ]
  },
  {
   "cell_type": "code",
   "execution_count": 96,
   "id": "ecac97e9",
   "metadata": {},
   "outputs": [
    {
     "name": "stdout",
     "output_type": "stream",
     "text": [
      "3.36 s Â± 1.37 ms per loop (mean Â± std. dev. of 2 runs, 1 loop each)\n"
     ]
    }
   ],
   "source": [
    "%%timeit -r 2 -n 1\n",
    "sum_list_comp(numbers)"
   ]
  },
  {
   "cell_type": "code",
   "execution_count": 113,
   "id": "9bc11c76",
   "metadata": {},
   "outputs": [
    {
     "name": "stdout",
     "output_type": "stream",
     "text": [
      "2.74 ms Â± 69.7 Âµs per loop (mean Â± std. dev. of 7 runs, 100 loops each)\n"
     ]
    }
   ],
   "source": [
    "%%timeit\n",
    "difference(numbers)"
   ]
  },
  {
   "cell_type": "code",
   "execution_count": 115,
   "id": "8eb62aa0",
   "metadata": {},
   "outputs": [
    {
     "name": "stdout",
     "output_type": "stream",
     "text": [
      "1.97 ms Â± 12.7 Âµs per loop (mean Â± std. dev. of 7 runs, 1000 loops each)\n"
     ]
    }
   ],
   "source": [
    "%%timeit\n",
    "acc(numbers)"
   ]
  },
  {
   "cell_type": "markdown",
   "id": "576bc1c8",
   "metadata": {},
   "source": [
    "# Numpy"
   ]
  },
  {
   "cell_type": "markdown",
   "id": "e866730b",
   "metadata": {},
   "source": [
    "Thanks to the preliminary work in the previous part, the following solutions are feasible."
   ]
  },
  {
   "cell_type": "code",
   "execution_count": 122,
   "id": "5fa91571",
   "metadata": {},
   "outputs": [],
   "source": [
    "import numpy as np"
   ]
  },
  {
   "cell_type": "code",
   "execution_count": 145,
   "id": "476f60d3",
   "metadata": {},
   "outputs": [],
   "source": [
    "def sum_diff_np(ls: np.ndarray) -> np.ndarray:\n",
    "    total = sum(ls)\n",
    "    return np.insert(total - np.array([*itertools.accumulate(ls)]), 0, total)"
   ]
  },
  {
   "cell_type": "markdown",
   "id": "b7366847",
   "metadata": {},
   "source": [
    "## Test cases"
   ]
  },
  {
   "cell_type": "markdown",
   "id": "1917cb65",
   "metadata": {},
   "source": [
    "## Unit Tests"
   ]
  },
  {
   "cell_type": "code",
   "execution_count": 123,
   "id": "fa2a0898",
   "metadata": {},
   "outputs": [],
   "source": [
    "ls = np.arange(1, 7)"
   ]
  },
  {
   "cell_type": "code",
   "execution_count": 150,
   "id": "3a417e71",
   "metadata": {},
   "outputs": [],
   "source": [
    "assert(all(sum_diff_np(ls) == [21, 20, 18, 15, 11, 6, 0]))"
   ]
  },
  {
   "cell_type": "code",
   "execution_count": 152,
   "id": "7549f790",
   "metadata": {},
   "outputs": [],
   "source": [
    "assert(all(sum_diff_np(np.array([0, 1, 3, 6, 10])) == [20, 20, 19, 16, 10, 0]))"
   ]
  },
  {
   "cell_type": "code",
   "execution_count": 144,
   "id": "4c161baf",
   "metadata": {
    "deletable": false,
    "editable": false,
    "run_control": {
     "frozen": true
    }
   },
   "outputs": [
    {
     "data": {
      "text/plain": [
       "array([21, 20, 18, 15, 11,  6,  0])"
      ]
     },
     "execution_count": 144,
     "metadata": {},
     "output_type": "execute_result"
    }
   ],
   "source": [
    "# keyword initial is new in Python 3.8\n",
    "#[total - el for el in itertools.accumulate(ls, initial=0)]"
   ]
  },
  {
   "cell_type": "markdown",
   "id": "dd5c930a",
   "metadata": {},
   "source": [
    "### Benchmark Test"
   ]
  },
  {
   "cell_type": "markdown",
   "id": "4a27d76a",
   "metadata": {},
   "source": [
    "# Numba Cuda"
   ]
  },
  {
   "cell_type": "code",
   "execution_count": 1,
   "id": "f80cedba",
   "metadata": {},
   "outputs": [],
   "source": [
    "from numba import cuda\n",
    "import numpy as np"
   ]
  },
  {
   "cell_type": "code",
   "execution_count": 46,
   "id": "d613916b",
   "metadata": {},
   "outputs": [],
   "source": [
    "@cuda.jit\n",
    "def pp(in_array, out):\n",
    "    i = cuda.grid(1)\n",
    "    if i < in_array.size:\n",
    "        for idx in range(i, in_array.size):\n",
    "            out[i] += in_array[idx]"
   ]
  },
  {
   "cell_type": "code",
   "execution_count": 63,
   "id": "1d6834e6",
   "metadata": {},
   "outputs": [],
   "source": [
    "number_of_scenarios = 1_000_000\n",
    "threads_per_block = 64  # number of threads within a blocks x dimension\n",
    "blocks_per_grid = (number_of_scenarios + (threads_per_block - 1)) // threads_per_block  # blocks x dimension\n",
    "in_array = np.random.randint(0, 10_000, number_of_scenarios)\n",
    "out = np.zeros(number_of_scenarios).astype(np.int32)"
   ]
  },
  {
   "cell_type": "code",
   "execution_count": 66,
   "id": "e41a3ba6",
   "metadata": {},
   "outputs": [
    {
     "name": "stdout",
     "output_type": "stream",
     "text": [
      "1.07 s Â± 5.16 ms per loop (mean Â± std. dev. of 7 runs, 1 loop each)\n"
     ]
    }
   ],
   "source": [
    "%%timeit -r 7 -n 1\n",
    "pp[blocks_per_grid, threads_per_block](in_array, out)"
   ]
  },
  {
   "cell_type": "code",
   "execution_count": 65,
   "id": "764c34ca",
   "metadata": {},
   "outputs": [
    {
     "data": {
      "text/plain": [
       "1000000"
      ]
     },
     "execution_count": 65,
     "metadata": {},
     "output_type": "execute_result"
    }
   ],
   "source": [
    "len(out)"
   ]
  }
 ],
 "metadata": {
  "kernelspec": {
   "display_name": "Python 3",
   "language": "python",
   "name": "python3"
  },
  "language_info": {
   "codemirror_mode": {
    "name": "ipython",
    "version": 3
   },
   "file_extension": ".py",
   "mimetype": "text/x-python",
   "name": "python",
   "nbconvert_exporter": "python",
   "pygments_lexer": "ipython3",
   "version": "3.8.3"
  },
  "toc": {
   "base_numbering": 1,
   "nav_menu": {},
   "number_sections": true,
   "sideBar": true,
   "skip_h1_title": false,
   "title_cell": "Table of Contents",
   "title_sidebar": "Contents",
   "toc_cell": false,
   "toc_position": {},
   "toc_section_display": true,
   "toc_window_display": false
  }
 },
 "nbformat": 4,
 "nbformat_minor": 5
}
